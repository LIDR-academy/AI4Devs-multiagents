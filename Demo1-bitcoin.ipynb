{
  "cells": [
    {
      "cell_type": "markdown",
      "metadata": {
        "id": "view-in-github",
        "colab_type": "text"
      },
      "source": [
        "<a href=\"https://colab.research.google.com/github/GTuritto/Demos4Course/blob/main/Demo1.ipynb\" target=\"_parent\"><img src=\"https://colab.research.google.com/assets/colab-badge.svg\" alt=\"Open In Colab\"/></a>"
      ]
    },
    {
      "cell_type": "markdown",
      "source": [
        "**Instalamos los paquetes requeridos**"
      ],
      "metadata": {
        "id": "thBHu6qF8-t-"
      }
    },
    {
      "cell_type": "code",
      "source": [
        "!pip install pyautogen matplotlib yfinance mistralai openai dask[dataframe]"
      ],
      "metadata": {
        "id": "EbkGXBCEGBR-",
        "collapsed": true
      },
      "execution_count": null,
      "outputs": []
    },
    {
      "cell_type": "markdown",
      "source": [
        "**Importamos las dependencias necesarias**"
      ],
      "metadata": {
        "id": "YiXBbI8g9F9c"
      }
    },
    {
      "cell_type": "code",
      "source": [
        "# Esta Libreria la necesitamos para usar los Secrets de Google Colab\n",
        "\n",
        "from google.colab import userdata"
      ],
      "metadata": {
        "id": "W11a95bXrItA"
      },
      "execution_count": null,
      "outputs": []
    },
    {
      "cell_type": "code",
      "source": [
        "from IPython.display import Image, display\n",
        "import os\n",
        "import autogen\n",
        "from autogen.coding import LocalCommandLineCodeExecutor"
      ],
      "metadata": {
        "id": "V5jzMIQFKXoB"
      },
      "execution_count": null,
      "outputs": []
    },
    {
      "cell_type": "markdown",
      "source": [
        "## Configuramos la conexion al API del LLM"
      ],
      "metadata": {
        "id": "_CGXHsV5KbDh"
      }
    },
    {
      "cell_type": "code",
      "execution_count": null,
      "metadata": {
        "id": "Z3yGP_OiEvHQ",
        "collapsed": true
      },
      "outputs": [],
      "source": [
        "# API Configuracion para OpenAI\n",
        "# apiConfig = [{\n",
        "#        \"model\": \"gpt-4o-mini\",\n",
        "#        \"max_tokens\": 500,\n",
        "#        \"api_key\": userdata.get('OPENAI_API_KEY')\n",
        "#    }]\n",
        "\n",
        "\n",
        "# Configuración de la API para Mistral - preferida por su costo y rendimiento.\n",
        "api_config = [{\n",
        "        \"model\": \"mistral-large-latest\",\n",
        "        \"max_tokens\": 500,  # Límite reducido de tokens para respuestas más concisas\n",
        "        \"api_key\": userdata.get('MISTRAL_API_KEY'),\n",
        "        \"api_type\": \"mistral\"\n",
        "    }]\n",
        "\n",
        "# Configuración para el LLM, incluyendo lógica de reintentos y semilla de caché para consistencia\n",
        "llm_config = {\n",
        "    \"config_list\": api_config,\n",
        "    \"cache_seed\": 42,  # Semilla de caché para un comportamiento consistente\n",
        "    \"retry_on_rate_limit\": True,  # Reintentar si se alcanza el límite de la API\n",
        "    \"retry_on_timeout\": True,     # Reintentar si hay un tiempo de espera\n",
        "    \"max_retries\": 5,             # Número máximo de reintentos\n",
        "    \"retry_delay\": 0.3,           # Retraso más corto para reintentos más rápidos\n",
        "}"
      ]
    },
    {
      "cell_type": "markdown",
      "source": [
        "## Creemos el Assitente que hara el trabajo"
      ],
      "metadata": {
        "id": "Tgk4Uf7KcqVj"
      }
    },
    {
      "cell_type": "code",
      "execution_count": null,
      "metadata": {
        "id": "V0tCFQuaEvHS"
      },
      "outputs": [],
      "source": [
        "# Crear el AssistantAgent llamado \"Asistente\"\n",
        "asistente = autogen.AssistantAgent(\n",
        "    name=\"Asistente\",\n",
        "    llm_config=llm_config,\n",
        "    system_message=\"Sé conciso, informativo, y trata de reducir las preguntas de seguimiento.\"\n",
        ")"
      ]
    },
    {
      "cell_type": "markdown",
      "source": [
        "## Creemos el Assitente que Servira de Interfaz con el Usuario"
      ],
      "metadata": {
        "id": "25S1hi1PsZoL"
      }
    },
    {
      "cell_type": "code",
      "source": [
        "\n",
        "# Crear el agente que actúa como Proxy del Usuario\n",
        "proxy_usuario = autogen.UserProxyAgent(\n",
        "    name=\"Usuario - Proxy\",\n",
        "    human_input_mode=\"NEVER\",  # No se requiere retroalimentación del usuario. Opciones: \"ALWAYS\", \"TERMINATE\", \"NEVER\"\n",
        "    max_consecutive_auto_reply=5,  # Reducido el número máximo de intercambios a 5\n",
        "    is_termination_msg=lambda x: x.get(\"contenido\", \"\").rstrip().endswith(\"TERMINATE\") or \"tarea completada\" in x.get(\"contenido\", \"\"),  # Termina cuando se completa la tarea\n",
        "    code_execution_config={\n",
        "        \"executor\": LocalCommandLineCodeExecutor(work_dir=\"contenido\"),  # Donde se ejecuta el código generado\n",
        "        \"last_n_messages\": 2,  # Solo considera los últimos 2 mensajes para reducir el contexto y uso de tokens\n",
        "    },\n",
        ")\n",
        "\n"
      ],
      "metadata": {
        "id": "cgEhbeYIMnuW"
      },
      "execution_count": null,
      "outputs": []
    },
    {
      "cell_type": "markdown",
      "source": [
        "Solicita que quieres hacer e inicia la interacion entre el Agente que representa al Usuario y el Agente de trabajo"
      ],
      "metadata": {
        "id": "opsvTBDjsz5M"
      }
    },
    {
      "cell_type": "code",
      "source": [
        "task_request = \"Genera la grafica YTD de precios y volumen del Bitcoin en USD y guardalo en un archivo con el nombre output.png\"\n",
        "\n",
        "# Entrada dinámica de solicitud del usuario para cualquier tarea o gráfico\n",
        "# task_request = input(\"Por favor, ingrese la tarea que desea que el asistente complete: \")\n",
        "# task_request += \" y guarda el resultado en el archivo output.png\"\n",
        "\n",
        "# Inicia una conversación para solicitar cualquier tarea de forma dinámica\n",
        "proxy_usuario.initiate_chat(\n",
        "    recipient=asistente,\n",
        "    message=task_request\n",
        ")"
      ],
      "metadata": {
        "collapsed": true,
        "id": "f6T6oE-Qso3o"
      },
      "execution_count": null,
      "outputs": []
    },
    {
      "cell_type": "markdown",
      "source": [
        "### Resultados de la operacion solicitada"
      ],
      "metadata": {
        "id": "KRyqwUBItS_p"
      }
    },
    {
      "cell_type": "code",
      "source": [
        "# Intenta mostrar cualquier imagen o resultado generado, si aplica\n",
        "output_file = \"contenido/output.png\"  # Puedes definir cualquier archivo de salida esperado\n",
        "try:\n",
        "    image = Image(filename=output_file)\n",
        "    display(image)\n",
        "except FileNotFoundError:\n",
        "    print(f\"No se encontró la salida en {output_file}. Es posible que la tarea solicitada no produzca un resultado visual.\")\n"
      ],
      "metadata": {
        "collapsed": true,
        "id": "V4R68ylgtKBd"
      },
      "execution_count": null,
      "outputs": []
    }
  ],
  "metadata": {
    "front_matter": {
      "description": "Use conversable language learning model agents to solve tasks and provide automatic feedback through a comprehensive example of writing, executing, and debugging Python code to compare stock price changes.",
      "tags": [
        "code generation",
        "debugging"
      ]
    },
    "kernelspec": {
      "display_name": "Python 3",
      "language": "python",
      "name": "python3"
    },
    "language_info": {
      "codemirror_mode": {
        "name": "ipython",
        "version": 3
      },
      "file_extension": ".py",
      "mimetype": "text/x-python",
      "name": "python",
      "nbconvert_exporter": "python",
      "pygments_lexer": "ipython3",
      "version": "3.10.14"
    },
    "vscode": {
      "interpreter": {
        "hash": "949777d72b0d2535278d3dc13498b2535136f6dfe0678499012e853ee9abcab1"
      }
    },
    "colab": {
      "provenance": [],
      "include_colab_link": true
    }
  },
  "nbformat": 4,
  "nbformat_minor": 0
}