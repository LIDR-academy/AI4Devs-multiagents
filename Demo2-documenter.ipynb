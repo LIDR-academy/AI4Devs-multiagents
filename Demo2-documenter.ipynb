{
  "nbformat": 4,
  "nbformat_minor": 0,
  "metadata": {
    "colab": {
      "provenance": [],
      "authorship_tag": "ABX9TyMuztm8WXp4qag6lkJq1H7P",
      "include_colab_link": true
    },
    "kernelspec": {
      "name": "python3",
      "display_name": "Python 3"
    },
    "language_info": {
      "name": "python"
    }
  },
  "cells": [
    {
      "cell_type": "markdown",
      "metadata": {
        "id": "view-in-github",
        "colab_type": "text"
      },
      "source": [
        "<a href=\"https://colab.research.google.com/github/GTuritto/Demos4Course/blob/main/Demo2.ipynb\" target=\"_parent\"><img src=\"https://colab.research.google.com/assets/colab-badge.svg\" alt=\"Open In Colab\"/></a>"
      ]
    },
    {
      "cell_type": "markdown",
      "source": [
        "# Projecto Documentador de Software"
      ],
      "metadata": {
        "id": "bOaPnqVsLT78"
      }
    },
    {
      "cell_type": "markdown",
      "source": [
        "**Instalamos los paquetes requeridos**"
      ],
      "metadata": {
        "id": "bAI77r2UKutW"
      }
    },
    {
      "cell_type": "code",
      "source": [
        "!pip install pyautogen dask[dataframe] mistralai"
      ],
      "metadata": {
        "collapsed": true,
        "id": "OlIHEZXgsRJu"
      },
      "execution_count": null,
      "outputs": []
    },
    {
      "cell_type": "markdown",
      "source": [
        "**Importamos las dependencias necesarias**"
      ],
      "metadata": {
        "id": "oSGzLabfLKpn"
      }
    },
    {
      "cell_type": "code",
      "source": [
        "# Esta Libreria la necesitamos para usar los Secrets de Google Colab\n",
        "\n",
        "from google.colab import userdata"
      ],
      "metadata": {
        "id": "WL6Pndai8rHf"
      },
      "execution_count": 7,
      "outputs": []
    },
    {
      "cell_type": "code",
      "source": [
        "import autogen\n",
        "import os\n",
        "import json\n",
        "import asyncio\n",
        "from concurrent.futures import ThreadPoolExecutor"
      ],
      "metadata": {
        "id": "QzYWpILeLeWI"
      },
      "execution_count": 8,
      "outputs": []
    },
    {
      "cell_type": "markdown",
      "source": [
        "Configuramos la conexion al API del LLM"
      ],
      "metadata": {
        "id": "QpY-Kwi9Lk43"
      }
    },
    {
      "cell_type": "code",
      "source": [
        "# API Configuracion para OpenAI\n",
        "api_config = [{\n",
        "      \"model\": \"gpt-4o-mini\",\n",
        "       \"max_tokens\": 500,\n",
        "       \"api_key\": userdata.get('OPENAI_API_KEY')\n",
        "   }]\n",
        "\n",
        "\n",
        "# API Configuracion para Mistral -- Preferimos usar esta para las pruebas ya que no hay que pagar y es tan buena como la de OpenAI\n",
        "# api_config = [{\n",
        "#         \"model\": \"mistral-large-latest\",\n",
        "#         \"max_tokens\": 2000,\n",
        "#         \"api_key\": userdata.get('MISTRAL_API_KEY'),\n",
        "#         \"api_type\": \"mistral\"\n",
        "#     }]\n",
        "\n",
        "# Configuración para el LLM, incluyendo lógica de reintentos y semilla de caché para consistencia\n",
        "llm_config = {\n",
        "    \"config_list\": api_config,\n",
        "    \"cache_seed\": 42,  # Consistencia en resultados\n",
        "    \"retry_on_rate_limit\": True,  # Reintentar al alcanzar el límite de la API\n",
        "    \"retry_on_timeout\": True,     # Reintentar en caso de tiempo de espera\n",
        "    \"max_retries\": 5,             # Número máximo de reintentos\n",
        "    \"retry_delay\": 0.3,           # Retraso entre reintentos\n",
        "}"
      ],
      "metadata": {
        "collapsed": true,
        "id": "WjCldcvnLrJo"
      },
      "execution_count": 9,
      "outputs": []
    },
    {
      "cell_type": "markdown",
      "source": [
        "## Creemos los Agentes\n",
        "\n",
        "Aqui controlaremos la creatividad de los agentes, ya que queremos que el Product Manager se un poco mas creativo que el resto"
      ],
      "metadata": {
        "id": "_xk-nxhFM4ch"
      }
    },
    {
      "cell_type": "markdown",
      "source": [
        "### User Proxy\n",
        "\n",
        "El agente que servira del proxy para la iteracion con el usuario"
      ],
      "metadata": {
        "id": "fx9KtMFMNOl0"
      }
    },
    {
      "cell_type": "code",
      "source": [
        "# Agente Proxy del Usuario\n",
        "user_proxy = autogen.UserProxyAgent(\n",
        "    name=\"User_proxy\",\n",
        "    system_message=\"Administrador humano del proyecto.\",\n",
        "    code_execution_config={\"last_n_messages\": 2, \"work_dir\": \"groupchat\"},\n",
        "    human_input_mode=\"TERMINATE\"\n",
        ")"
      ],
      "metadata": {
        "id": "P9Le_n-mNIso"
      },
      "execution_count": 10,
      "outputs": []
    },
    {
      "cell_type": "markdown",
      "source": [
        "### Niveles de Creatividad (temperature)"
      ],
      "metadata": {
        "id": "9VBUgSaSD3FQ"
      }
    },
    {
      "cell_type": "code",
      "source": [
        "# Configuración de temperaturas para creatividad\n",
        "llm_config_high = llm_config.copy()\n",
        "llm_config_high[\"temperature\"] = 0.9  # Alta creatividad\n",
        "\n",
        "llm_config_low = llm_config.copy()\n",
        "llm_config_low[\"temperature\"] = 0.5  # Baja creatividad, más estructura\n",
        "\n",
        "llm_config_normal = llm_config.copy()\n",
        "llm_config_normal[\"temperature\"] = 0.7  # Nivel normal de creatividad"
      ],
      "metadata": {
        "id": "ER0ga8--C7vH"
      },
      "execution_count": 11,
      "outputs": []
    },
    {
      "cell_type": "markdown",
      "source": [
        "### Agente Product Manager\n",
        "\n",
        "Agente que actua como un Product Manager"
      ],
      "metadata": {
        "id": "GeqlOwaHNdbq"
      }
    },
    {
      "cell_type": "code",
      "source": [
        "# Agente de Product Manager (responsable del PRD)\n",
        "product_manager = autogen.AssistantAgent(\n",
        "    name=\"Product_Manager\",\n",
        "    system_message=(\"Eres un Product Manager con experiencia. Tu tarea es crear el Documento de Requisitos del Producto (PRD), \"\n",
        "                    \"detallando todas las características principales del proyecto y sus objetivos.\"),\n",
        "    llm_config=llm_config_high,\n",
        ")"
      ],
      "metadata": {
        "id": "1LOc1o6_N1if"
      },
      "execution_count": null,
      "outputs": []
    },
    {
      "cell_type": "markdown",
      "source": [
        "### Agente Business Analyst\n",
        "\n",
        "Agente que actua como un Business Analyst"
      ],
      "metadata": {
        "id": "jXNWBG-XPUDh"
      }
    },
    {
      "cell_type": "code",
      "source": [
        "# Agente de Analista de Negocios\n",
        "ba = autogen.AssistantAgent(\n",
        "    name=\"Business_Analyst\",\n",
        "    system_message=(\"Eres un Analista de Negocios especializado en identificar y documentar casos de uso y requisitos funcionales. \"\n",
        "                    \"Debes crear un documento independiente que detalle todos los casos de uso para el proyecto. Además, debes generar un diagrama de los casos de uso.\"),\n",
        "    llm_config=llm_config_low,\n",
        ")"
      ],
      "metadata": {
        "id": "4yFPOcfRPajF"
      },
      "execution_count": null,
      "outputs": []
    },
    {
      "cell_type": "markdown",
      "source": [
        "### Agente Project Manager\n",
        "\n",
        "Agente que actua como un Project Manager y creara el Plan de Delivery"
      ],
      "metadata": {
        "id": "EQ0Bu63wSaic"
      }
    },
    {
      "cell_type": "code",
      "source": [
        "# Agente de Project Manager (incluye plan de entrega)\n",
        "pm = autogen.AssistantAgent(\n",
        "    name=\"Project_Manager\",\n",
        "    system_message=(\"Eres el Project Manager responsable de gestionar las entregas del proyecto. Debes generar un plan de entrega \"\n",
        "                    \"detallando los hitos, plazos y asignación de recursos necesarios para llevar el proyecto a buen puerto.\"),\n",
        "    llm_config=llm_config_high,\n",
        ")"
      ],
      "metadata": {
        "id": "yzpYrPZ7SrIj"
      },
      "execution_count": null,
      "outputs": []
    },
    {
      "cell_type": "markdown",
      "source": [
        "### Agente Architect\n",
        "\n",
        "Agente que actua como un Arquitecto de Software"
      ],
      "metadata": {
        "id": "3m8O9GiSQKFq"
      }
    },
    {
      "cell_type": "code",
      "source": [
        "# Agente de Arquitecto (incluye diagramas y C4)\n",
        "architect = autogen.AssistantAgent(\n",
        "    name=\"Architect\",\n",
        "    system_message=(\"Eres un Arquitecto de Software experto en diseño de sistemas escalables. Tu tarea es generar un documento con la arquitectura del sistema \"\n",
        "                    \"utilizando diagramas C4 y Mermaid, explicando cada diagrama y detallando todos los casos de uso técnicos.\"),\n",
        "    llm_config=llm_config_normal,\n",
        ")"
      ],
      "metadata": {
        "id": "QnTk5q0AQLPB"
      },
      "execution_count": null,
      "outputs": []
    },
    {
      "cell_type": "markdown",
      "source": [
        "### Agente Ingeniero de Software (Coder)\n",
        "\n",
        "Agente que actua como un Ingeniero de Software"
      ],
      "metadata": {
        "id": "9xvmaApRQLjc"
      }
    },
    {
      "cell_type": "code",
      "source": [
        "# Agente de Ingeniero de Software (Coder)\n",
        "coder = autogen.AssistantAgent(\n",
        "    name=\"Coder\",\n",
        "    system_message=(\"Eres un Ingeniero de Software Senior. Debes proporcionar un plan detallado de implementación, \"\n",
        "                    \"focalizándote en las mejores prácticas de codificación y algoritmos eficientes.\"),\n",
        "    llm_config=llm_config_normal,\n",
        ")"
      ],
      "metadata": {
        "id": "hNtXBi6jQMRt"
      },
      "execution_count": null,
      "outputs": []
    },
    {
      "cell_type": "markdown",
      "source": [
        "### Agente Analista de QA\n",
        "\n",
        "Agente que actua como un experto en **QA**"
      ],
      "metadata": {
        "id": "6hFpPatSSWkU"
      }
    },
    {
      "cell_type": "code",
      "source": [
        "# Agente de QA (incluye BDD Gherkin)\n",
        "qa = autogen.AssistantAgent(\n",
        "    name=\"QA\",\n",
        "    system_message=(\"Eres un experto en pruebas y calidad. Debes generar un plan de pruebas detallado que cubra pruebas funcionales, \"\n",
        "                    \"de integración y de regresión para asegurar la calidad del producto. También debes generar una especificación en Gherkin para la implementación BDD.\"),\n",
        "    llm_config=llm_config_low,\n",
        ")"
      ],
      "metadata": {
        "id": "RQo0v82ZQOF5"
      },
      "execution_count": null,
      "outputs": []
    },
    {
      "cell_type": "markdown",
      "source": [
        "### Agente generador de Documentacion\n",
        "\n",
        "Este agente esta encargdo de generar el Documento final, combinando los documentos de cada uno de los integrantes, coordinacion de la generacion de documentos y revisa y genera recomendacion para mejorar el documento"
      ],
      "metadata": {
        "id": "ttM_YcW1QNtv"
      }
    },
    {
      "cell_type": "code",
      "source": [
        "# Agente de Documentación\n",
        "class DocumentationAgent(autogen.AssistantAgent):\n",
        "    def __init__(self, name, llm_config):\n",
        "        super().__init__(name=name, llm_config=llm_config)\n",
        "        self.documents = {}\n",
        "\n",
        "    def contribute(self, agent_name, document_title, content):\n",
        "        # Crear documento separado por cada agente y aspecto\n",
        "        self.documents[document_title] = content\n",
        "\n",
        "    def generate_document(self, title):\n",
        "        # Crear una carpeta específica para la documentación\n",
        "        folder_name = \"documentation\"\n",
        "        if not os.path.exists(folder_name):\n",
        "            os.makedirs(folder_name)\n",
        "\n",
        "        # Generar archivo de documentación para cada aspecto\n",
        "        doc_path = os.path.join(folder_name, f\"{title}.md\")\n",
        "        with open(doc_path, \"w\") as file:\n",
        "            file.write(f\"# {title}\\n\\n{self.documents.get(title, 'Sin contenido')}\")\n",
        "        print(f\"Documento '{title}' creado en la carpeta 'documentation': {doc_path}\")\n",
        "        return doc_path\n",
        "\n",
        "# Instanciar el agente de documentación\n",
        "doc_agent = DocumentationAgent(\n",
        "    name=\"Documentation_Agent\",\n",
        "    llm_config=llm_config_normal\n",
        ")\n"
      ],
      "metadata": {
        "id": "qb4qWSu7TM4X"
      },
      "execution_count": null,
      "outputs": []
    },
    {
      "cell_type": "markdown",
      "source": [
        "## Creacion del Chat de grupo de Agentes"
      ],
      "metadata": {
        "id": "I5NhgqgMJhXX"
      }
    },
    {
      "cell_type": "code",
      "source": [
        "# Definir el grupo de agentes\n",
        "agents = [user_proxy, product_manager, ba, architect, coder, qa, pm, doc_agent]\n",
        "\n",
        "# Configuración del Grupo de Chat\n",
        "groupchat = autogen.GroupChat(agents=agents, messages=[], max_round=12)\n",
        "manager = autogen.GroupChatManager(groupchat=groupchat, llm_config=llm_config)\n"
      ],
      "metadata": {
        "id": "N9n9xx4HJN3n"
      },
      "execution_count": null,
      "outputs": []
    },
    {
      "cell_type": "markdown",
      "source": [
        "## Funciones extras para los agentes"
      ],
      "metadata": {
        "id": "bo201FJlc7gU"
      }
    },
    {
      "cell_type": "code",
      "source": [
        "# Función para que los agentes contribuyan a la documentación\n",
        "def agent_contribute(agent, doc_agent, document_title, groupchat):\n",
        "    response = safe_agent_reply(agent, groupchat)\n",
        "    if response:\n",
        "        doc_agent.contribute(agent.name, document_title, response)\n",
        "        print(f\"{agent.name} contribuyó a '{document_title}'.\")\n",
        "\n",
        "# Función para manejo seguro de respuestas\n",
        "def safe_agent_reply(agent, groupchat):\n",
        "    try:\n",
        "        response = agent.generate_reply(groupchat.messages)\n",
        "        return response.get('content', '') if isinstance(response, dict) else response\n",
        "    except Exception as e:\n",
        "        print(f\"Error generando respuesta de {agent.name}: {e}\")\n",
        "        return None\n",
        "\n",
        "# Función asíncrona para generar la documentación final\n",
        "async def generate_document_async(doc_agent, title):\n",
        "    await asyncio.to_thread(doc_agent.generate_document, title)\n"
      ],
      "metadata": {
        "id": "sOExsdXpc8D6"
      },
      "execution_count": 20,
      "outputs": []
    },
    {
      "cell_type": "markdown",
      "source": [
        "### Funcion usada por el UserProxy para preguntarle al usuario que proyecto desea documentar"
      ],
      "metadata": {
        "id": "FObNm29RfmJI"
      }
    },
    {
      "cell_type": "code",
      "source": [
        "# Función para iniciar la conversación solicitando información del proyecto\n",
        "def solicitar_detalles_proyecto():\n",
        "    print(\"Por favor, describa el tipo de proyecto que desea construir:\")\n",
        "    return input(\"Descripción del proyecto: \")"
      ],
      "metadata": {
        "id": "KdAcF_B4fmpB"
      },
      "execution_count": 21,
      "outputs": []
    },
    {
      "cell_type": "markdown",
      "source": [
        "## Coordinacion de Colaboración\n",
        "\n",
        "En esta seccion definiremos la coordinacion entre Agentes.\n",
        "\n",
        "Hemos dividido el proceso en fases de colaboración, la primera fase es una colaboración entre cada uno de los agentes con el agente de Documentacion y los otros agentes en un GroupChat.\n",
        "La siguiente fase es el Agente de Documentacion generara y revisara cada uno de los documentos que cada agente esta encargado de entregar.\n",
        "\n",
        "Todo termina cuando no hay mas sugerencias que hacer."
      ],
      "metadata": {
        "id": "Hy7Ze52z7cmO"
      }
    },
    {
      "cell_type": "code",
      "source": [
        "# Función para iniciar el flujo del proyecto\n",
        "def start_project():\n",
        "    descripcion_proyecto = solicitar_detalles_proyecto()\n",
        "\n",
        "    # Mensaje inicial del Proxy del Usuario\n",
        "    groupchat.messages.append({\n",
        "        \"sender\": user_proxy.name,\n",
        "        \"content\": f\"Estamos iniciando un proyecto: {descripcion_proyecto}\",\n",
        "        \"role\": \"user\"\n",
        "    })\n",
        "\n",
        "    # Fase 1: Contribuciones iniciales de los agentes\n",
        "    agent_contribute(product_manager, doc_agent, \"PRD - Documento de Requisitos del Producto\", groupchat)\n",
        "    agent_contribute(ba, doc_agent, \"Casos de Uso\", groupchat)\n",
        "    agent_contribute(architect, doc_agent, \"Arquitectura del Sistema\", groupchat)\n",
        "    agent_contribute(coder, doc_agent, \"Plan de Implementación\", groupchat)\n",
        "    agent_contribute(qa, doc_agent, \"Plan de Pruebas\", groupchat)\n",
        "    agent_contribute(qa, doc_agent, \"BDD Gherkin - Especificaciones\", groupchat)  # Nueva contribución para Gherkin\n",
        "    agent_contribute(pm, doc_agent, \"Plan de Entrega\", groupchat)\n",
        "\n",
        "    # Use asyncio.gather to run coroutines concurrently\n",
        "    async def generate_all_documents():\n",
        "        await asyncio.gather(\n",
        "            generate_document_async(doc_agent, \"PRD - Documento de Requisitos del Producto\"),\n",
        "            generate_document_async(doc_agent, \"Casos de Uso\"),\n",
        "            generate_document_async(doc_agent, \"Arquitectura del Sistema\"),\n",
        "            generate_document_async(doc_agent, \"Plan de Implementación\"),\n",
        "            generate_document_async(doc_agent, \"Plan de Pruebas\"),\n",
        "            generate_document_async(doc_agent, \"BDD Gherkin - Especificaciones\"),\n",
        "            generate_document_async(doc_agent, \"Plan de Entrega\")\n",
        "        )\n",
        "\n",
        "    asyncio.run(generate_all_documents())"
      ],
      "metadata": {
        "id": "qQmTG7WPdkCp"
      },
      "execution_count": 22,
      "outputs": []
    },
    {
      "cell_type": "markdown",
      "source": [
        "## Activacion\n",
        "\n",
        "Aqui definimos que deben de documentar todos estos agentes y empezamos cada una de las fases"
      ],
      "metadata": {
        "id": "ZyP-HJXU7Y6d"
      }
    },
    {
      "cell_type": "code",
      "source": [
        "# Iniciar el proyecto\n",
        "start_project()"
      ],
      "metadata": {
        "id": "kQVzWbs--giW"
      },
      "execution_count": null,
      "outputs": []
    }
  ]
}